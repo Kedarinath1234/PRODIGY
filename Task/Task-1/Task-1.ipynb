{
 "cells": [
  {
   "cell_type": "code",
   "execution_count": 1,
   "id": "39edc2c3",
   "metadata": {},
   "outputs": [
    {
     "name": "stdout",
     "output_type": "stream",
     "text": [
      "\n",
      " Conversion of Temperature in f to c and c to f\n",
      "1. Fahrenheit to Celsius\n",
      "2. Celsius to Fahrenheit\n",
      "0. Exit\n",
      "Enter your choice no.: 1\n",
      "Enter temperature in Fahrenheit:  98.6\n",
      "98.6 Fahrenheit is equal to 37.00 Celsius.\n",
      "\n",
      " Conversion of Temperature in f to c and c to f\n",
      "1. Fahrenheit to Celsius\n",
      "2. Celsius to Fahrenheit\n",
      "0. Exit\n",
      "Enter your choice no.: 2\n",
      "Enter temperature in Celsius: 37\n",
      "37.0 Celsius is equal to 98.60 Fahrenheit.\n",
      "\n",
      " Conversion of Temperature in f to c and c to f\n",
      "1. Fahrenheit to Celsius\n",
      "2. Celsius to Fahrenheit\n",
      "0. Exit\n",
      "Enter your choice no.: 0\n",
      "\n",
      " Thank you for being with us.\n",
      " Exiting the program. \n",
      " Goodbye! we wish your return.\n"
     ]
    }
   ],
   "source": [
    "# defining to convert fahrenheit to celcius\n",
    "def f_to_c(f):\n",
    "    return (f - 32) * 5/9\n",
    "\n",
    "# defining to convert celcius to fahrenheit\n",
    "def c_to_f(c):\n",
    "    return (c * 9/5) + 32\n",
    "\n",
    "# Taking While true for continuations program run \n",
    "while True:\n",
    "    print(\"\\n Conversion of Temperature in f to c and c to f\")\n",
    "    print(\"1. Fahrenheit to Celsius\")\n",
    "    print(\"2. Celsius to Fahrenheit\")\n",
    "    print(\"0. Exit\")\n",
    "    \n",
    "# Creating the choices according to the preference\n",
    "    choice = input(\"Enter your choice no.: \")\n",
    "    \n",
    "# Taking if else for choices\n",
    "    if choice == '0':\n",
    "        print(\"\\n Thank you for being with us.\\n Exiting the program. \\n Goodbye! we wish your return.\")\n",
    "        break\n",
    "\n",
    "    elif choice == '1':\n",
    "        f = float(input(\"Enter temperature in Fahrenheit:  \"))\n",
    "        c = f_to_c(f)\n",
    "        print(f\"{f} Fahrenheit is equal to {c:.2f} Celsius.\")\n",
    "    \n",
    "    elif choice == '2':\n",
    "        c = float(input(\"Enter temperature in Celsius: \"))\n",
    "        f = c_to_f(c)\n",
    "        print(f\"{c} Celsius is equal to {f:.2f} Fahrenheit.\")\n",
    "\n",
    "    else:\n",
    "        print(\"Invalid choice. Please enter 0, 1, or 2.\")\n"
   ]
  },
  {
   "cell_type": "code",
   "execution_count": null,
   "id": "d343b0cf",
   "metadata": {},
   "outputs": [],
   "source": []
  },
  {
   "cell_type": "code",
   "execution_count": null,
   "id": "38c93d40",
   "metadata": {},
   "outputs": [],
   "source": []
  },
  {
   "cell_type": "code",
   "execution_count": null,
   "id": "cf96a72d",
   "metadata": {},
   "outputs": [],
   "source": []
  },
  {
   "cell_type": "code",
   "execution_count": null,
   "id": "c05af023",
   "metadata": {},
   "outputs": [],
   "source": []
  }
 ],
 "metadata": {
  "kernelspec": {
   "display_name": "Python 3 (ipykernel)",
   "language": "python",
   "name": "python3"
  },
  "language_info": {
   "codemirror_mode": {
    "name": "ipython",
    "version": 3
   },
   "file_extension": ".py",
   "mimetype": "text/x-python",
   "name": "python",
   "nbconvert_exporter": "python",
   "pygments_lexer": "ipython3",
   "version": "3.11.5"
  }
 },
 "nbformat": 4,
 "nbformat_minor": 5
}
