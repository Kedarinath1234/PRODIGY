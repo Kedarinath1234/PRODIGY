{
 "cells": [
  {
   "cell_type": "code",
   "execution_count": 12,
   "id": "efd9d9c1",
   "metadata": {},
   "outputs": [
    {
     "name": "stdout",
     "output_type": "stream",
     "text": [
      "\n",
      "Contact Manager Menu:\n",
      "1. Add New Contact\n",
      "2. View Contacts\n",
      "3. Exit\n",
      "Enter your choice: 1\n",
      "Enter Name, Phone,and Email (Place','for seperation):Kedarinath Gondu,6265725801,kedarinath1234@gmail.com\n",
      "Contact Kedarinath Gondu added!\n",
      "\n",
      "Contact Manager Menu:\n",
      "1. Add New Contact\n",
      "2. View Contacts\n",
      "3. Exit\n",
      "Enter your choice: 2\n",
      "Name: Kedarinath Gondu, Phone: 6265725801, Email: kedarinath1234@gmail.com\n",
      "\n",
      "Contact Manager Menu:\n",
      "1. Add New Contact\n",
      "2. View Contacts\n",
      "3. Exit\n",
      "Enter your choice: 3\n",
      "Goodbye!!!\n"
     ]
    }
   ],
   "source": [
    "# Creating a class named contact manager and initialised with an argument Myself\n",
    "class ContactManager:\n",
    "    def __init__(My_self):\n",
    "        My_self.Contacts = {}\n",
    "        \n",
    "# To add new contacts \n",
    "    def Add_New_Contact(My_self, Name, Phone, Email):\n",
    "        if name not in My_self.Contacts:\n",
    "            My_self.Contacts[Name] = {'Phone': Phone, 'Email': Email}\n",
    "            print(F\"Contact {Name} added!\")\n",
    "            \n",
    "# To view contacts\n",
    "    def View_Contacts(My_self):\n",
    "        for Name, info in My_self.Contacts.items():\n",
    "            print(F\"Name: {Name}, Phone: {info['Phone']}, Email: {info['Email']}\")\n",
    "            \n",
    "# Created a Instance as contact_manager for ContactManager\n",
    "Contact_manager = ContactManager()\n",
    "\n",
    "# Taking while True for iteration\n",
    "while True:\n",
    "    print(\"\\nContact Manager Menu:\")\n",
    "    print(\"1. Add New Contact\")\n",
    "    print(\"2. View Contacts\")\n",
    "    print(\"3. Exit\")\n",
    "\n",
    "    choice = input(\"Enter your choice: \")\n",
    "\n",
    "    if choice == '1':\n",
    "        Name, Phone, Email = input(\"Enter Name, Phone,and Email (Place','for seperation):\").split(',')\n",
    "        Contact_manager.Add_New_Contact(Name.strip(), Phone.strip(), Email.strip())\n",
    "    elif choice == '2':\n",
    "        Contact_manager.View_Contacts()\n",
    "    elif choice == '3':\n",
    "        print(\"Goodbye!!!\")\n",
    "        break\n",
    "    else:\n",
    "        print(\"Invalid choice!!!. \\nEnter Valid choice.\")\n"
   ]
  },
  {
   "cell_type": "code",
   "execution_count": null,
   "id": "4cf3498e",
   "metadata": {},
   "outputs": [],
   "source": []
  },
  {
   "cell_type": "code",
   "execution_count": null,
   "id": "6df18407",
   "metadata": {},
   "outputs": [],
   "source": []
  }
 ],
 "metadata": {
  "kernelspec": {
   "display_name": "Python 3 (ipykernel)",
   "language": "python",
   "name": "python3"
  },
  "language_info": {
   "codemirror_mode": {
    "name": "ipython",
    "version": 3
   },
   "file_extension": ".py",
   "mimetype": "text/x-python",
   "name": "python",
   "nbconvert_exporter": "python",
   "pygments_lexer": "ipython3",
   "version": "3.11.5"
  }
 },
 "nbformat": 4,
 "nbformat_minor": 5
}
