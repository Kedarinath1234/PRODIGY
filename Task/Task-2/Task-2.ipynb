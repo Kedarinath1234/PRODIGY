{
 "cells": [
  {
   "cell_type": "code",
   "execution_count": 1,
   "id": "72ef9e2d",
   "metadata": {},
   "outputs": [
    {
     "name": "stdout",
     "output_type": "stream",
     "text": [
      "\n",
      "Welcome to my Guessing Game!\n",
      "\n",
      "Number is chosen between 1 and 100.\n",
      "Try to Guess the number in Single Go!!!\n",
      "Good Luck!!!\n",
      "Enter your guessed Number: 70\n",
      "Too high  Retry it.\n",
      "Enter your guessed Number: 65\n",
      "Too high  Retry it.\n",
      "Enter your guessed Number: 60\n",
      "Too high  Retry it.\n",
      "Enter your guessed Number: 55\n",
      "Too high  Retry it.\n",
      "Enter your guessed Number: 50\n",
      "Too high  Retry it.\n",
      "Enter your guessed Number: 45\n",
      "Too low  Retry it.\n",
      "Enter your guessed Number: 46\n",
      "Congratulations! You guessed the correct number. \n",
      " You Won the Game!!!46 in 7 attempts.\n",
      "Do you want to play again? (yes/no): y\n",
      "Thanks for playing the Game. Goodbye! We might meet again!!!\n"
     ]
    }
   ],
   "source": [
    "#importing the file random for various numbers\n",
    "import random\n",
    "\n",
    "# creating guessing game function \n",
    "def guessing_game():   \n",
    "    \n",
    "# Taking while true for Iterating the numbers     \n",
    "    while True:\n",
    "        \n",
    "# Numbers are auto selected          \n",
    "        targeted_number = random.randint(1, 100)\n",
    "        attempts = 0\n",
    "\n",
    "        print(\"\\nWelcome to my Guessing Game!\")\n",
    "        print(\"\\nNumber is chosen between 1 and 100.\\nTry to Guess the number in Single Go!!!\\nGood Luck!!!\")\n",
    "        \n",
    "        while True:\n",
    "            user_guessed_no = int(input(\"Enter your guessed Number: \"))\n",
    "            attempts += 1\n",
    "\n",
    "            if user_guessed_no == targeted_number:\n",
    "                print(f\"Congratulations! You guessed the correct number. \\n You Won the Game!!!{targeted_number} in {attempts} attempts.\")\n",
    "                break\n",
    "            print(\"Too low\" if user_guessed_no < targeted_number else \"Too high\", \" Retry it.\")\n",
    "\n",
    "        play_again = input(\"Do you want to play again? (yes/no): \").lower()\n",
    "        if play_again!='yes':\n",
    "            print(\"Thanks for playing the Game. Goodbye! We might meet again!!!\")\n",
    "            break\n",
    "\n",
    "                    \n",
    "            \n",
    "guessing_game()\n"
   ]
  },
  {
   "cell_type": "code",
   "execution_count": null,
   "id": "8b271a34",
   "metadata": {},
   "outputs": [],
   "source": []
  },
  {
   "cell_type": "code",
   "execution_count": null,
   "id": "9906eb96",
   "metadata": {},
   "outputs": [],
   "source": []
  },
  {
   "cell_type": "code",
   "execution_count": null,
   "id": "6c7fd1b9",
   "metadata": {},
   "outputs": [],
   "source": []
  }
 ],
 "metadata": {
  "kernelspec": {
   "display_name": "Python 3 (ipykernel)",
   "language": "python",
   "name": "python3"
  },
  "language_info": {
   "codemirror_mode": {
    "name": "ipython",
    "version": 3
   },
   "file_extension": ".py",
   "mimetype": "text/x-python",
   "name": "python",
   "nbconvert_exporter": "python",
   "pygments_lexer": "ipython3",
   "version": "3.11.5"
  }
 },
 "nbformat": 4,
 "nbformat_minor": 5
}
